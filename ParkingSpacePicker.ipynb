{
 "cells": [
  {
   "cell_type": "code",
   "execution_count": 1,
   "id": "6d6ff2b5",
   "metadata": {},
   "outputs": [],
   "source": [
    "import cv2\n",
    "import pickle"
   ]
  },
  {
   "cell_type": "code",
   "execution_count": null,
   "id": "3794613e",
   "metadata": {},
   "outputs": [],
   "source": [
    "width, height = 107, 48\n",
    "try:\n",
    "    with open('CarParkPos', 'rb') as f:\n",
    "        posList = pickle.load(f)\n",
    "except: \n",
    "    posList = []\n",
    "\n",
    "        \n",
    "\n",
    "def mouseClick(events,x,y,flags,params):\n",
    "    if events == cv2.EVENT_LBUTTONDOWN:\n",
    "        posList.append((x, y))\n",
    "    #for deleting\n",
    "    if events == cv2.EVENT_RBUTTONDOWN:\n",
    "        for i, pos in enumerate(posList):\n",
    "            x1, y1 = pos\n",
    "            if x1<x<x1+width and y1<y<y1+height:\n",
    "                posList.pop(i)\n",
    "    with open('CarParkPos', 'wb') as f:\n",
    "        pickle.dump(posList, f)\n",
    "\n",
    "while True:\n",
    "    img = cv2.imread('img.png')\n",
    "    for pos in posList:\n",
    "        cv2.rectangle(img, pos,(pos[0]+width,pos[1]+height), (255,0,255),2)\n",
    "        \n",
    "    cv2.imshow(\"Image\",img)\n",
    "    cv2.setMouseCallback(\"Image\",mouseClick)\n",
    "    cv2.waitKey(1)"
   ]
  },
  {
   "cell_type": "code",
   "execution_count": null,
   "id": "a1e4cfe0",
   "metadata": {},
   "outputs": [],
   "source": []
  }
 ],
 "metadata": {
  "kernelspec": {
   "display_name": "Python 3 (ipykernel)",
   "language": "python",
   "name": "python3"
  },
  "language_info": {
   "codemirror_mode": {
    "name": "ipython",
    "version": 3
   },
   "file_extension": ".py",
   "mimetype": "text/x-python",
   "name": "python",
   "nbconvert_exporter": "python",
   "pygments_lexer": "ipython3",
   "version": "3.9.7"
  }
 },
 "nbformat": 4,
 "nbformat_minor": 5
}
